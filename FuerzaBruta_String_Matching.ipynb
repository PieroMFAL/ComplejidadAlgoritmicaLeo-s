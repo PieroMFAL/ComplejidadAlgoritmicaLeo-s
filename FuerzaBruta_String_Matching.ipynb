{
  "nbformat": 4,
  "nbformat_minor": 0,
  "metadata": {
    "colab": {
      "name": "String Matching.ipynb",
      "provenance": [],
      "collapsed_sections": [],
      "authorship_tag": "ABX9TyNObsttET1l4SvLnjdR7dqy",
      "include_colab_link": true
    },
    "kernelspec": {
      "name": "python3",
      "display_name": "Python 3"
    },
    "language_info": {
      "name": "python"
    }
  },
  "cells": [
    {
      "cell_type": "markdown",
      "metadata": {
        "id": "view-in-github",
        "colab_type": "text"
      },
      "source": [
        "<a href=\"https://colab.research.google.com/github/PieroMFAL/ComplejidadAlgoritmicaLeo-s/blob/main/FuerzaBruta_String_Matching.ipynb\" target=\"_parent\"><img src=\"https://colab.research.google.com/assets/colab-badge.svg\" alt=\"Open In Colab\"/></a>"
      ]
    },
    {
      "cell_type": "code",
      "execution_count": 5,
      "metadata": {
        "id": "6rYhRoP3Wm5z"
      },
      "outputs": [],
      "source": [
        "def strmatch(t, p):\n",
        "  n = len(t)\n",
        "  l = len(p)\n",
        "  results = []\n",
        "  for i in range(n - l):\n",
        "    if p == t[i:i+l]:\n",
        "      results.append(i)\n",
        "\n",
        "  return results    "
      ]
    },
    {
      "cell_type": "code",
      "source": [
        "strmatch(\"abracadabracalamazoo\", \"rac\")"
      ],
      "metadata": {
        "colab": {
          "base_uri": "https://localhost:8080/"
        },
        "id": "sK041RECXpax",
        "outputId": "622e8e0c-ab47-4f99-c05d-11995039358b"
      },
      "execution_count": 7,
      "outputs": [
        {
          "output_type": "execute_result",
          "data": {
            "text/plain": [
              "[2, 9]"
            ]
          },
          "metadata": {},
          "execution_count": 7
        }
      ]
    }
  ]
}