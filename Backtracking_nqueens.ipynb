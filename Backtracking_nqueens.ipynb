{
  "nbformat": 4,
  "nbformat_minor": 0,
  "metadata": {
    "colab": {
      "name": "Backtracking",
      "provenance": [],
      "collapsed_sections": [],
      "authorship_tag": "ABX9TyMSARCfTHqUKxHTEJrwHIjH",
      "include_colab_link": true
    },
    "kernelspec": {
      "name": "python3",
      "display_name": "Python 3"
    },
    "language_info": {
      "name": "python"
    }
  },
  "cells": [
    {
      "cell_type": "markdown",
      "metadata": {
        "id": "view-in-github",
        "colab_type": "text"
      },
      "source": [
        "<a href=\"https://colab.research.google.com/github/PieroMFAL/ComplejidadAlgoritmicaLeo-s/blob/main/Backtracking_nqueens.ipynb\" target=\"_parent\"><img src=\"https://colab.research.google.com/assets/colab-badge.svg\" alt=\"Open In Colab\"/></a>"
      ]
    },
    {
      "cell_type": "code",
      "execution_count": null,
      "metadata": {
        "colab": {
          "base_uri": "https://localhost:8080/"
        },
        "id": "Dhkto2X1r7PF",
        "outputId": "5124ee38-fce2-4c1f-cc7e-04b092d7594b"
      },
      "outputs": [
        {
          "output_type": "stream",
          "name": "stdout",
          "text": [
            "Hay una reina el la fila 0 columna 4\n",
            "Hay una reina el la fila 1 columna 7\n",
            "Hay una reina el la fila 2 columna 2\n",
            "Hay una reina el la fila 3 columna 6\n",
            "Hay una reina el la fila 4 columna 1\n",
            "Hay una reina el la fila 5 columna 0\n",
            "Hay una reina el la fila 6 columna 3\n",
            "Hay una reina el la fila 7 columna 5\n"
          ]
        }
      ],
      "source": [
        "board = [4, 7 ,2, 6, 1, 0, 3, 5]\n",
        "\n",
        "for row, col in enumerate(board):\n",
        "  print(f\"Hay una reina el la fila {row} columna {col}\")"
      ]
    },
    {
      "cell_type": "code",
      "source": [
        "import numpy as np\n",
        "import matplotlib.pyplot as plt"
      ],
      "metadata": {
        "id": "C2ZhduINs-sM"
      },
      "execution_count": null,
      "outputs": []
    },
    {
      "cell_type": "code",
      "source": [
        "def draw(board):\n",
        "  n = len(board)\n",
        "  b = np.zeros((n, n, 3), dtype = int)\n",
        "  b += [255, 128, 80]\n",
        "\n",
        "  b[::2, ::2] = [255, 225, 120]\n",
        "  b[1::2, 1::2] = [255, 225, 120]\n",
        "\n",
        "  _, ax = plt.subplots()\n",
        "  ax.imshow(b)\n",
        "  for row, col in enumerate(board):\n",
        "    ax.text(col, row, u\"\\u265b\", fontsize = 200/n, va=\"center\", ha=\"center\")\n",
        "  ax.set(xticks=[], yticks=[])\n",
        "\n",
        "draw(board)   "
      ],
      "metadata": {
        "colab": {
          "base_uri": "https://localhost:8080/",
          "height": 252
        },
        "id": "qUMGIAaftKza",
        "outputId": "36c7c4bc-568c-43d4-85c4-7bfafff4a752"
      },
      "execution_count": null,
      "outputs": [
        {
          "output_type": "display_data",
          "data": {
            "text/plain": [
              "<Figure size 432x288 with 1 Axes>"
            ],
            "image/png": "[encoded data removed]"
          },
          "metadata": {}
        }
      ]
    },
    {
      "cell_type": "code",
      "source": [
        "def valid(board, row, col):\n",
        "  for row_i in range(row):\n",
        "    col_i = board[row_i]\n",
        "    delta = row - row_i\n",
        "    if col in [col_i, col_i + delta, col_i - delta]:\n",
        "      return False\n",
        "\n",
        "  return True    "
      ],
      "metadata": {
        "id": "ZkTQee7Oufdw"
      },
      "execution_count": null,
      "outputs": []
    },
    {
      "cell_type": "code",
      "source": [
        "def valid(board, row, col):\n",
        "  for row_i in range(row):\n",
        "    col_i = board[row_i]\n",
        "    delta = row - row_i\n",
        "    if col in [col_i, col_i + delta, col_i - delta]:\n",
        "      return False\n",
        "\n",
        "  return True    "
      ],
      "metadata": {
        "id": "xJJnxTKAvXwB"
      },
      "execution_count": null,
      "outputs": []
    },
    {
      "cell_type": "code",
      "source": [
        "board = [1, 3, -1, -1]\n",
        "assert valid(board, 2, 0) == True\n",
        "draw(board)"
      ],
      "metadata": {
        "colab": {
          "base_uri": "https://localhost:8080/",
          "height": 252
        },
        "id": "6NrFjUtTv6AL",
        "outputId": "7277a39b-545a-4de3-ac27-a8c57dc1144d"
      },
      "execution_count": null,
      "outputs": [
        {
          "output_type": "display_data",
          "data": {
            "text/plain": [
              "<Figure size 432x288 with 1 Axes>"
            ],
            "image/png": "[encoded data removed]"
          },
          "metadata": {}
        }
      ]
    },
    {
      "cell_type": "code",
      "source": [
        "board = [1, 3, -1, -1]\n",
        "assert valid(board, 2, 1) == False\n",
        "draw(board)"
      ],
      "metadata": {
        "colab": {
          "base_uri": "https://localhost:8080/",
          "height": 252
        },
        "id": "-MA67STbwHIL",
        "outputId": "44a8b22d-9fe8-4f6d-9e5f-351c213eaeb4"
      },
      "execution_count": null,
      "outputs": [
        {
          "output_type": "display_data",
          "data": {
            "text/plain": [
              "<Figure size 432x288 with 1 Axes>"
            ],
            "image/png": "[encoded data removed]"
          },
          "metadata": {}
        }
      ]
    },
    {
      "cell_type": "code",
      "source": [
        "board = [1, 3, -1, -1]\n",
        "assert valid(board, 2, 2) == False\n",
        "draw(board)"
      ],
      "metadata": {
        "colab": {
          "base_uri": "https://localhost:8080/",
          "height": 252
        },
        "id": "eQkzhWL1wivV",
        "outputId": "55f0edb4-54b3-4b78-8bf0-12a04375156e"
      },
      "execution_count": null,
      "outputs": [
        {
          "output_type": "display_data",
          "data": {
            "text/plain": [
              "<Figure size 432x288 with 1 Axes>"
            ],
            "image/png": "[encoded data removed]"
          },
          "metadata": {}
        }
      ]
    },
    {
      "cell_type": "code",
      "source": [
        "def nqueens(board, row):\n",
        "  n = len(board)\n",
        "  if row == n:\n",
        "    draw(board)\n",
        "  else:\n",
        "    for col in range(n):\n",
        "      if valid(board, row, col):\n",
        "        board[row] = col\n",
        "        nqueens(board, row+1)\n"
      ],
      "metadata": {
        "id": "X-i5qo2dwu4v"
      },
      "execution_count": null,
      "outputs": []
    },
    {
      "cell_type": "code",
      "source": [
        "[-1]*10"
      ],
      "metadata": {
        "colab": {
          "base_uri": "https://localhost:8080/"
        },
        "id": "EGnrjuXqxPJe",
        "outputId": "675cd436-34c5-422c-fe1f-6be136368daf"
      },
      "execution_count": null,
      "outputs": [
        {
          "output_type": "execute_result",
          "data": {
            "text/plain": [
              "[-1, -1, -1, -1, -1, -1, -1, -1, -1, -1]"
            ]
          },
          "metadata": {},
          "execution_count": 12
        }
      ]
    },
    {
      "cell_type": "code",
      "source": [
        "n = 4\n",
        "nqueens([-1]*n, 0)"
      ],
      "metadata": {
        "colab": {
          "base_uri": "https://localhost:8080/",
          "height": 487
        },
        "id": "iGIenE_NxTP3",
        "outputId": "2eda829f-a9c7-4038-e29c-c81bb9e9c58f"
      },
      "execution_count": null,
      "outputs": [
        {
          "output_type": "display_data",
          "data": {
            "text/plain": [
              "<Figure size 432x288 with 1 Axes>"
            ],
            "image/png": "[encoded data removed]"
          },
          "metadata": {}
        },
        {
          "output_type": "display_data",
          "data": {
            "text/plain": [
              "<Figure size 432x288 with 1 Axes>"
            ],
            "image/png": "[encoded data removed]"
          },
          "metadata": {}
        }
      ]
    }
  ]
}